{
 "cells": [
  {
   "cell_type": "code",
   "execution_count": 2,
   "id": "7cd3fde3",
   "metadata": {},
   "outputs": [
    {
     "name": "stdout",
     "output_type": "stream",
     "text": [
      "Collecting fredapi\n",
      "  Using cached fredapi-0.5.0-py3-none-any.whl (11 kB)\n",
      "Requirement already satisfied: pandas in /Users/welcome/opt/anaconda3/lib/python3.9/site-packages (from fredapi) (1.4.3)\n",
      "Requirement already satisfied: python-dateutil>=2.8.1 in /Users/welcome/opt/anaconda3/lib/python3.9/site-packages (from pandas->fredapi) (2.8.2)\n",
      "Requirement already satisfied: pytz>=2020.1 in /Users/welcome/opt/anaconda3/lib/python3.9/site-packages (from pandas->fredapi) (2022.1)\n",
      "Requirement already satisfied: numpy>=1.18.5 in /Users/welcome/opt/anaconda3/lib/python3.9/site-packages (from pandas->fredapi) (1.21.5)\n",
      "Requirement already satisfied: six>=1.5 in /Users/welcome/opt/anaconda3/lib/python3.9/site-packages (from python-dateutil>=2.8.1->pandas->fredapi) (1.16.0)\n",
      "Installing collected packages: fredapi\n",
      "Successfully installed fredapi-0.5.0\n"
     ]
    }
   ],
   "source": [
    "!pip install fredapi"
   ]
  },
  {
   "cell_type": "code",
   "execution_count": 6,
   "id": "66877f64",
   "metadata": {},
   "outputs": [],
   "source": [
    "import pandas as pd\n",
    "# import numpy as np\n",
    "import matplotlib.pyplot as plt\n",
    "import plotly.express as px\n",
    "import streamlit as st\n",
    "from fredapi import Fred\n"
   ]
  },
  {
   "cell_type": "code",
   "execution_count": 7,
   "id": "12f418dd",
   "metadata": {},
   "outputs": [],
   "source": [
    "state_mapping = {'California': ['CARGSP', 4], 'Florida': ['FLRGSP', 8], 'Minnesota': ['MNRGSP', 21], 'Texas': ['TXRGSP', 41],\n",
    " 'New York': ['NYRGSP', 30], 'Pennsylvania': ['PARGSP', 36], 'Alaska': ['AKRGSP', 50], 'Illinois': ['ILRGSP', 11],\n",
    " 'Utah': ['UTRGSP', 42], 'Louisiana': ['LARGSP', 16], 'Hawaii': ['HIRGSP'], 'Virginia': ['VARGSP', 44],\n",
    " 'South Carolina': ['SCRGSP', 38], 'Alabama': ['ALRGSP', 1], 'Ohio': ['OHRGSP', 33], 'Mississippi': ['MSRGSP', 22],\n",
    " 'Wyoming': ['WYRGSP', 48], 'Michigan': ['MIRGSP', 20], 'North Dakota': ['NDRGSP', 32], 'Massachusetts': ['MARGSP', 19],\n",
    " 'Wisconsin': ['WIRGSP', 47], 'Georgia': ['GARGSP', 9], 'North Carolina': ['NCRGSP', 31], 'Arizona': ['AZRGSP', 2],\n",
    " 'Kansas': ['KSRGSP', 14], 'Colorado': ['CORGSP', 5], 'Montana': ['MTRGSP', 24], 'New Mexico': ['NMRGSP', 29],\n",
    " 'Iowa': ['IARGSP', 13], 'Idaho': ['IDRGSP', 10], 'Delaware': ['DERGSP', 7], 'Maryland': ['MDRGSP', 18],\n",
    " 'New Jersey': ['NJRGSP', 28], 'Tennessee': ['TNRGSP', 40], 'Vermont': ['VTRGSP', 43], 'Oklahoma': ['OKRGSP', 34],\n",
    " 'Nebraska': ['NERGSP', 25], 'Kentucky': ['KYRGSP', 15], 'Oregon': ['ORRGSP', 35], 'Missouri': ['MORGSP', 23],\n",
    " 'Connecticut': ['CTRGSP', 6], 'Washington': ['WARGSP', 45], 'West Virginia': ['WVRGSP', 46],\n",
    " 'Arkansas': ['ARRGSP', 3], 'Nevada': ['NVRGSP', 26], 'Maine': ['MERGSP', 17], 'South Dakota': ['SDRGSP', 39],\n",
    " 'the District of Columbia': ['DCRGSP'], 'Rhode Island': ['RIRGSP', 37], 'Indiana': ['INRGSP', 12],\n",
    " 'New Hampshire': ['NHRGSP', 27]}"
   ]
  },
  {
   "cell_type": "code",
   "execution_count": 12,
   "id": "de7899ac",
   "metadata": {},
   "outputs": [],
   "source": [
    "parameter = {\"Average Temperature\": 'tavg', \"Maximum Temperature\": \"tmax\", \"Minimum Temperature\": \"tmin\",\n",
    "                 \"Precipitation\": \"pcp\", \\\n",
    "                 \"Cooling Degree Days\": \"hdd\", \"Heating Degree Days\": \"cdd\",\n",
    "                 \"Palmer Drought Severity Index (PDSI)\": \"pdsi\", \\\n",
    "                 \"Palmer Hydrological Drought Index (PHDI)\": \"phdi\", \"Palmer Modified Drought Index (PMDI)\": \"pmdi\",\n",
    "                 \"Palmer Z-Index\": \"zndx\"}"
   ]
  },
  {
   "cell_type": "code",
   "execution_count": 17,
   "id": "b0c821a3",
   "metadata": {},
   "outputs": [
    {
     "name": "stdout",
     "output_type": "stream",
     "text": [
      "41\n"
     ]
    }
   ],
   "source": [
    "print(state_mapping['Texas'][1])\n",
    "# for key in state_mapping.keys():\n",
    "#     print(key, type(key))"
   ]
  },
  {
   "cell_type": "code",
   "execution_count": 23,
   "id": "83324e00",
   "metadata": {},
   "outputs": [
    {
     "name": "stdout",
     "output_type": "stream",
     "text": [
      "https://www.ncei.noaa.gov/access/monitoring/climate-at-a-glance/statewide/time-series/41/tavg/12/12/1998-2022.csv?base_prd=true&begbaseyear=1970&endbaseyear=2022\n",
      "        Value\n",
      "Date         \n",
      "199812   67.0\n",
      "199912   66.6\n",
      "200012   66.5\n",
      "200112   65.7\n",
      "200212   65.0\n",
      "200312   65.5\n",
      "200412   65.2\n",
      "200512   66.0\n",
      "200612   67.1\n",
      "200712   64.8\n",
      "200812   65.5\n",
      "200912   65.8\n",
      "201012   65.1\n",
      "201112   67.3\n",
      "201212   67.8\n",
      "201312   65.1\n",
      "201412   64.8\n",
      "201512   65.8\n",
      "201612   67.2\n",
      "201712   67.3\n",
      "201812   66.0\n",
      "201912   65.9\n",
      "202012   66.9\n",
      "202112   66.1\n"
     ]
    }
   ],
   "source": [
    "state_selection = 'Texas'\n",
    "parameter_selection = \"Average Temperature\"\n",
    "# from_year = 1970\n",
    "# to_year = 2022\n",
    "url = 'https://www.ncei.noaa.gov/access/monitoring/climate-at-a-glance/statewide/time-series/' + \\\n",
    "          str(state_mapping[state_selection][1]) + '/' + \\\n",
    "        str(parameter[parameter_selection]) + \\\n",
    "          '/12/12/1998-2022.csv?base_prd=true&begbaseyear=1970&endbaseyear=2022'\n",
    "climate_data = pd.read_csv(url, index_col='Date', skiprows=4, usecols=['Value', 'Date'])\n",
    "print(url)\n",
    "print(climate_data)"
   ]
  },
  {
   "cell_type": "code",
   "execution_count": null,
   "id": "ff0aeafd",
   "metadata": {},
   "outputs": [],
   "source": [
    "'https://www.ncei.noaa.gov/access/monitoring/climate-at-a-glance/statewide/time-series/4/pcp/12/12/1998-2022.csv?base_prd=true&begbaseyear=1901&endbaseyear=2000'"
   ]
  },
  {
   "cell_type": "code",
   "execution_count": 11,
   "id": "2bbe2aa9",
   "metadata": {},
   "outputs": [
    {
     "ename": "SyntaxError",
     "evalue": "invalid syntax (4006603609.py, line 2)",
     "output_type": "error",
     "traceback": [
      "\u001b[0;36m  Input \u001b[0;32mIn [11]\u001b[0;36m\u001b[0m\n\u001b[0;31m    \"Maximum Temperature\":\"tmax\"\u001b[0m\n\u001b[0m                         ^\u001b[0m\n\u001b[0;31mSyntaxError\u001b[0m\u001b[0;31m:\u001b[0m invalid syntax\n"
     ]
    }
   ],
   "source": [
    "parameter = {\"Average Temperature\":'tavg'\n",
    "\"Maximum Temperature\":\"tmax\"\n",
    "\"Minimum Temperature\":\"tmin\"\n",
    "\"Precipitation\":\"pcp\"\n",
    "\"Cooling Degree Days\":\"hdd\"\n",
    "\"Heating Degree Days\":\"cdd\"\n",
    "\"Palmer Drought Severity Index (PDSI)\":\"pdsi\"\n",
    "\"Palmer Hydrological Drought Index (PHDI)\":\"phdi\"\n",
    "\"Palmer Modified Drought Index (PMDI)\":\"pmdi\"\n",
    "\"Palmer Z-Index\":\"zndx\"}"
   ]
  },
  {
   "cell_type": "code",
   "execution_count": null,
   "id": "5c8f421d",
   "metadata": {},
   "outputs": [],
   "source": [
    "for state, lis in state_mapping.items():\n",
    "    "
   ]
  }
 ],
 "metadata": {
  "kernelspec": {
   "display_name": "Python 3 (ipykernel)",
   "language": "python",
   "name": "python3"
  },
  "language_info": {
   "codemirror_mode": {
    "name": "ipython",
    "version": 3
   },
   "file_extension": ".py",
   "mimetype": "text/x-python",
   "name": "python",
   "nbconvert_exporter": "python",
   "pygments_lexer": "ipython3",
   "version": "3.9.7"
  }
 },
 "nbformat": 4,
 "nbformat_minor": 5
}
