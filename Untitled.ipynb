{
 "cells": [
  {
   "cell_type": "code",
   "execution_count": 2,
   "id": "7cd3fde3",
   "metadata": {},
   "outputs": [
    {
     "name": "stdout",
     "output_type": "stream",
     "text": [
      "Collecting fredapi\n",
      "  Using cached fredapi-0.5.0-py3-none-any.whl (11 kB)\n",
      "Requirement already satisfied: pandas in /Users/welcome/opt/anaconda3/lib/python3.9/site-packages (from fredapi) (1.4.3)\n",
      "Requirement already satisfied: python-dateutil>=2.8.1 in /Users/welcome/opt/anaconda3/lib/python3.9/site-packages (from pandas->fredapi) (2.8.2)\n",
      "Requirement already satisfied: pytz>=2020.1 in /Users/welcome/opt/anaconda3/lib/python3.9/site-packages (from pandas->fredapi) (2022.1)\n",
      "Requirement already satisfied: numpy>=1.18.5 in /Users/welcome/opt/anaconda3/lib/python3.9/site-packages (from pandas->fredapi) (1.21.5)\n",
      "Requirement already satisfied: six>=1.5 in /Users/welcome/opt/anaconda3/lib/python3.9/site-packages (from python-dateutil>=2.8.1->pandas->fredapi) (1.16.0)\n",
      "Installing collected packages: fredapi\n",
      "Successfully installed fredapi-0.5.0\n"
     ]
    }
   ],
   "source": [
    "!pip install fredapi"
   ]
  },
  {
   "cell_type": "code",
   "execution_count": 3,
   "id": "66877f64",
   "metadata": {},
   "outputs": [],
   "source": [
    "import pandas as pd\n",
    "# import numpy as np\n",
    "import matplotlib.pyplot as plt\n",
    "import plotly.express as px\n",
    "import streamlit as st\n",
    "from fredapi import Fred\n"
   ]
  },
  {
   "cell_type": "code",
   "execution_count": null,
   "id": "83324e00",
   "metadata": {},
   "outputs": [],
   "source": []
  }
 ],
 "metadata": {
  "kernelspec": {
   "display_name": "Python 3 (ipykernel)",
   "language": "python",
   "name": "python3"
  },
  "language_info": {
   "codemirror_mode": {
    "name": "ipython",
    "version": 3
   },
   "file_extension": ".py",
   "mimetype": "text/x-python",
   "name": "python",
   "nbconvert_exporter": "python",
   "pygments_lexer": "ipython3",
   "version": "3.9.7"
  }
 },
 "nbformat": 4,
 "nbformat_minor": 5
}
